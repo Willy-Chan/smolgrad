{
 "cells": [
  {
   "cell_type": "markdown",
   "id": "dbb51c80",
   "metadata": {},
   "source": [
    "# Custom Transformer-from-Scratch Project\n",
    "\n",
    "\"Infinite Diplomacy\": training a simple transformer to generate lines from the game diplomacy.\n",
    "\n",
    "Sourced from: https://github.com/niderhoff/nlp-datasets?tab=readme-ov-file"
   ]
  },
  {
   "cell_type": "code",
   "execution_count": 1,
   "id": "744ccb58",
   "metadata": {},
   "outputs": [],
   "source": [
    "# First load in the JSON dataset\n",
    "\n",
    "import json\n",
    "\n",
    "train = ''\n",
    "test = ''\n",
    "\n",
    "with open('train.jsonl', 'r') as trfile:\n",
    "    for line in trfile:\n",
    "        json_obj = json.loads(line)\n",
    "        train += ' '.join(json_obj['messages'])\n",
    "\n",
    "with open('test.jsonl', 'r') as testfile:\n",
    "    for line in testfile:\n",
    "        json_obj = json.loads(line)\n",
    "        test += ' '.join(json_obj['messages'])\n",
    "\n"
   ]
  },
  {
   "cell_type": "markdown",
   "id": "dcfd3117",
   "metadata": {},
   "source": [
    "# Step 1: Tokenize and Encode/Decode"
   ]
  },
  {
   "cell_type": "code",
   "execution_count": 2,
   "id": "5e0ddfb3",
   "metadata": {},
   "outputs": [
    {
     "name": "stdout",
     "output_type": "stream",
     "text": [
      "\n",
      " !\"#$%&'()*+,-./0123456789:;<=>?@ABCDEFGHIJKLMNOPQRSTUVWXYZ[\\]^_`abcdefghijklmnopqrstuvwxyz{|}~¯°àéХаезнрт‍—‘’“”→☺♂❤ツ️，🇫🇬🇷🌊🎆🎉🏻🏼🏽🐍👀👌👍👎👏👺💀💯💰💴😀😁😂😃😄😅😆😈😉😊😍😎😔😘😛😜😝😞😟😤😦😩😫😬😭😮😰😱😲😳😴😵😺😼🙂🙃🙄🙏🤔🤗🤞🤣🤦🤨🤪🤫🤭🤷🥂🥳🥵🥺🦃🧐🧙🧨\n",
      "196\n"
     ]
    }
   ],
   "source": [
    "vocab = sorted(list(set(train).union(set(test))))\n",
    "\n",
    "vocab_size = len(vocab)\n",
    "\n",
    "print(''.join(vocab))\n",
    "print(vocab_size)"
   ]
  },
  {
   "cell_type": "code",
   "execution_count": 3,
   "id": "09514129",
   "metadata": {},
   "outputs": [
    {
     "name": "stdout",
     "output_type": "stream",
     "text": [
      "[41, 70, 77, 77, 80, 13, 1, 42, 1, 66, 78, 1, 56, 74, 77, 77, 90]\n",
      "Hello, I am Willy\n"
     ]
    }
   ],
   "source": [
    "# provided encode and decode, to convert from char <-> int_token\n",
    "\n",
    "stoi = { c:i for i, c in enumerate(vocab) }\n",
    "itos = { i:c for i, c in enumerate(vocab) }\n",
    "\n",
    "encode = lambda some_string : [stoi[character] for character in some_string]\n",
    "decode = lambda some_list_of_ints : [itos[int_token] for int_token in some_list_of_ints]\n",
    "\n",
    "print(encode(\"Hello, I am Willy\"))\n",
    "print(''.join(decode(encode(\"Hello, I am Willy\"))))"
   ]
  },
  {
   "cell_type": "markdown",
   "id": "d1a09695",
   "metadata": {},
   "source": [
    "# Step 2: Convert to Embeddings"
   ]
  },
  {
   "cell_type": "code",
   "execution_count": 4,
   "id": "186b0670",
   "metadata": {},
   "outputs": [
    {
     "name": "stdout",
     "output_type": "stream",
     "text": [
      "tensor(6.0601, grad_fn=<NllLossBackward0>)\n"
     ]
    }
   ],
   "source": [
    "import torch\n",
    "import torch.nn as nn\n",
    "from torch.nn import functional as F\n",
    "torch.manual_seed(1337)\n",
    "\n",
    "class BigramLanguageModel(nn.Module):\n",
    "    def __init__(self, vocab_size):\n",
    "        super().__init__()\n",
    "        self.token_embedding_table = nn.Embedding(vocab_size, vocab_size)\n",
    "    \n",
    "    def forward(self, input_sequence, targets = None):\n",
    "        logits = self.token_embedding_table(input_sequence)   # need to pass in a BATCH of input_sequences!!!!\n",
    "        \n",
    "        if targets is not None:\n",
    "            B, T, C = logits.shape\n",
    "            logits = logits.view(B * T, C)\n",
    "            targets = targets.view(B * T)\n",
    "            loss = F.cross_entropy(logits, targets)\n",
    "        else:\n",
    "            loss = None\n",
    "            \n",
    "        return logits, loss\n",
    "        \n",
    "    def generate(self, starter_sequence, max_new_tokens):\n",
    "        \n",
    "        my_sequence = starter_sequence[:, -max_seq_length:]\n",
    "\n",
    "        for _ in range(max_new_tokens):\n",
    "            logits, loss = self.forward(starter_sequence)\n",
    "            \n",
    "            logits = logits[:, -1, :]   # only look at the very last logit!!!!\n",
    "            \n",
    "            # note this softmaxxing and sampling!!!!\n",
    "            softmax_output = F.softmax(logits, dim=-1)\n",
    "            next_token = torch.multinomial(softmax_output, num_samples=1)\n",
    "            \n",
    "            my_sequence = torch.cat((my_sequence, next_token), dim=1)\n",
    "            \n",
    "        return my_sequence\n",
    "        \n",
    "        \n",
    "        \n",
    "batch_size = 4\n",
    "max_seq_length = 8\n",
    "\n",
    "def get_batch(split):\n",
    "    data = train if split == 'train' else val_data\n",
    "    starting_indices = torch.randint(len(data) - max_seq_length, (batch_size,))\n",
    "    \n",
    "    x = torch.tensor([encode(s) for s in [data[idx:idx + max_seq_length] for idx in starting_indices]])\n",
    "    y = torch.tensor([encode(s) for s in [data[idx + 1:idx + max_seq_length + 1] for idx in starting_indices]])\n",
    "    return x, y\n",
    "    \n",
    "xb, yb = get_batch('train')\n",
    "\n",
    "my_model = BigramLanguageModel(vocab_size)\n",
    "logits, loss = my_model.forward(xb, yb)\n",
    "print(loss)"
   ]
  },
  {
   "cell_type": "code",
   "execution_count": 10,
   "id": "74bd0963",
   "metadata": {},
   "outputs": [
    {
     "name": "stdout",
     "output_type": "stream",
     "text": [
      "epoch 0: loss is 2.5054776668548584\n",
      "epoch 2000: loss is 2.4881591796875\n",
      "epoch 4000: loss is 2.900830030441284\n",
      "epoch 6000: loss is 2.4526865482330322\n",
      "epoch 8000: loss is 2.6962499618530273\n"
     ]
    }
   ],
   "source": [
    "optimizer = torch.optim.AdamW(my_model.parameters(), lr=1e-3)\n",
    "\n",
    "for epoch in range(10000):\n",
    "    xb, yb = get_batch('train')\n",
    "    logits, loss = my_model.forward(xb, yb)\n",
    "    \n",
    "    optimizer.zero_grad(set_to_none = True)\n",
    "    loss.backward()\n",
    "    optimizer.step()\n",
    "    \n",
    "    if epoch % 2000 == 0:\n",
    "        print(f\"epoch {epoch}: loss is {loss}\")"
   ]
  },
  {
   "cell_type": "code",
   "execution_count": 11,
   "id": "fada1308",
   "metadata": {},
   "outputs": [
    {
     "name": "stdout",
     "output_type": "stream",
     "text": [
      "tensor([[1]])\n",
      " AttaaiwwRIFittysfagWausasIaiboyo1toolPmtIhGShjgistPdw bgctetiiabIamcjaah gpttYt yfnmHaiewnastyaktWwa\n"
     ]
    }
   ],
   "source": [
    "seed = torch.ones(1,1).long()\n",
    "print(seed)\n",
    "\n",
    "generated = my_model.generate(seed, 100)[0]\n",
    "print(''.join(decode(generated.tolist())))"
   ]
  },
  {
   "cell_type": "markdown",
   "id": "5b6a1a5a",
   "metadata": {},
   "source": [
    "# Step 3: Adding Self-Attention"
   ]
  },
  {
   "cell_type": "code",
   "execution_count": 95,
   "id": "199b9319",
   "metadata": {},
   "outputs": [],
   "source": [
    "# Hyperparameters\n",
    "batch_size = 4\n",
    "max_seq_length = 8\n",
    "\n",
    "# head_dim = 16\n",
    "\n",
    "vocab_size = len(vocab)\n",
    "num_heads = 2     # MUST BE A MULTIPLE OF VOCAB_SIZE!!!\n",
    "learning_rate = 1e-3\n",
    "dropout = 0.2"
   ]
  },
  {
   "cell_type": "code",
   "execution_count": 107,
   "id": "99e99f06",
   "metadata": {},
   "outputs": [],
   "source": [
    "import torch\n",
    "import torch.nn as nn\n",
    "from torch.nn import functional as F\n",
    "torch.manual_seed(1337)\n",
    "\n",
    "\n",
    "class Head(nn.Module):\n",
    "    def __init__(self, head_dim):\n",
    "        super().__init__()\n",
    "        self.query = nn.Linear(vocab_size, head_dim, bias=False)\n",
    "        self.key = nn.Linear(vocab_size, head_dim, bias=False)\n",
    "        self.value = nn.Linear(vocab_size, head_dim, bias=False)\n",
    "        self.register_buffer('tril', torch.tril(torch.ones(max_seq_length, max_seq_length)))\n",
    "\n",
    "    def forward(self, input_sequence_batched):\n",
    "        B, T, C = input_sequence_batched.shape    # (B, T, C/Channels)\n",
    "        \n",
    "        q = self.query(input_sequence_batched)     # (B, T, head_dim)\n",
    "        k = self.key(input_sequence_batched)\n",
    "        v = self.value(input_sequence_batched)\n",
    "        \n",
    "        # Compute attention weights\n",
    "        wei = q @ k.transpose(-2, -1) * (C ** -0.5)                        # Scale by sqrt(d_k)\n",
    "        wei = wei.masked_fill(self.tril[:T, :T] == 0, float('-inf'))          # Apply mask\n",
    "        wei = F.softmax(wei, dim=-1)                                         # Normalize weights\n",
    "        \n",
    "        out = wei @ v\n",
    "        return out\n",
    "    \n",
    "    \n",
    "    \n",
    "    \n",
    "    \n",
    "class MultiHeadAttention(nn.Module):\n",
    "    def __init__(self, num_heads):\n",
    "        super().__init__()\n",
    "        head_dim = vocab_size // num_heads\n",
    "        \n",
    "        self.heads = nn.ModuleList([Head(head_dim) for _ in range(num_heads)])\n",
    "        self.proj = nn.Linear(vocab_size, vocab_size)\n",
    "    \n",
    "    def forward(self, input_sequence_batched):\n",
    "        batched_attended_vecs = torch.cat([h.forward(input_sequence_batched) for h in self.heads], dim=-1)           # every head is embedding_size // num_heads, so we concat all at the end\n",
    "        \n",
    "        logits = self.proj(batched_attended_vecs)\n",
    "        \n",
    "        return logits\n",
    "    \n",
    "\n",
    "class FeedForward(nn.Module):\n",
    "    def __init__(self, starting_dim):\n",
    "        super().__init__()\n",
    "        self.mlp_layer = nn.Sequential(\n",
    "            nn.Linear(starting_dim, starting_dim * 4),\n",
    "            nn.ReLU(),\n",
    "            nn.Linear(4 * starting_dim, starting_dim),\n",
    "            nn.Dropout(dropout),\n",
    "        )\n",
    "    \n",
    "    def forward(self, input_sequence_batched):\n",
    "        logits = self.mlp_layer(input_sequence_batched)  # (B, T, C)\n",
    "        return logits\n",
    "\n",
    "\n",
    "    \n",
    "class Block(nn.Module):\n",
    "    def __init__(self, starting_dim, num_heads):\n",
    "        super().__init__()\n",
    "        self.sa_heads = MultiHeadAttention(num_heads)\n",
    "        self.ffw = FeedForward(starting_dim)\n",
    "        self.ln1 = nn.LayerNorm(vocab_size)\n",
    "        self.ln2 = nn.LayerNorm(vocab_size)\n",
    "    \n",
    "    def forward(self, input_sequence_batched):\n",
    "#         print(input_sequence_batched)\n",
    "        input_sequence_batched = input_sequence_batched + self.sa_heads(self.ln1(input_sequence_batched))   # \"add and norm\"\n",
    "        logits = input_sequence_batched + self.ffw(self.ln2(input_sequence_batched))\n",
    "\n",
    "        return logits\n",
    "\n",
    "\n",
    "\n",
    "        \n",
    "        \n",
    "        \n",
    "        \n",
    "class BigramLanguageModel(nn.Module):\n",
    "    def __init__(self, vocab_size):\n",
    "        super().__init__()\n",
    "        \n",
    "        self.blocks = nn.Sequential(\n",
    "            Block(vocab_size, num_heads),\n",
    "            Block(vocab_size, num_heads),\n",
    "            Block(vocab_size, num_heads),        # RUN AND TRAIN ON 3 BLOCKS...\n",
    "            nn.LayerNorm(vocab_size),            # AND LAYERNORM AT THE VERY END!\n",
    "        )\n",
    "        self.lm_head = nn.Linear(vocab_size, vocab_size)\n",
    "        \n",
    "        self.token_embedding_table = nn.Embedding(vocab_size, vocab_size)        \n",
    "        self.position_embedding_table = nn.Embedding(max_seq_length, vocab_size)\n",
    "\n",
    "    \n",
    "    def forward(self, input_sequence, targets = None):\n",
    "#         print(input_sequence)\n",
    "#         input_sequence = input_sequence.to(torch.float32) \n",
    "        B, T = input_sequence.shape\n",
    "        sequence_token_embeddings = self.token_embedding_table(input_sequence)\n",
    "        positional_embedding = self.position_embedding_table(torch.arange(T))   # 0....T-1 for a (T, embedding_dim) matrix\n",
    "        \n",
    "        sequence_token_embeddings = sequence_token_embeddings + positional_embedding \n",
    "        sequence_token_embeddings = self.blocks(sequence_token_embeddings)\n",
    "        logits = self.lm_head(sequence_token_embeddings)\n",
    "\n",
    "        if targets is not None:\n",
    "            B, T, C = logits.shape\n",
    "            logits = logits.view(B * T, C)\n",
    "            targets = targets.view(B * T)\n",
    "            loss = F.cross_entropy(logits, targets)\n",
    "        else:\n",
    "            loss = None\n",
    "            \n",
    "        return logits, loss\n",
    "        \n",
    "    def generate(self, starter_sequence, max_new_tokens):\n",
    "        \n",
    "        my_sequence = starter_sequence[:, -max_seq_length:]\n",
    "\n",
    "        for _ in range(max_new_tokens):\n",
    "            logits, loss = self.forward(starter_sequence)\n",
    "            \n",
    "            logits = logits[:, -1, :]   # only look at the very last logit!!!!\n",
    "            \n",
    "            # note this softmaxxing and sampling!!!!\n",
    "            softmax_output = F.softmax(logits, dim=-1)\n",
    "            next_token = torch.multinomial(softmax_output, num_samples=1)\n",
    "            \n",
    "            my_sequence = torch.cat((my_sequence, next_token), dim=1)\n",
    "            \n",
    "        return my_sequence\n",
    "        \n",
    "        "
   ]
  },
  {
   "cell_type": "code",
   "execution_count": 108,
   "id": "8e9d1c2d",
   "metadata": {},
   "outputs": [
    {
     "name": "stdout",
     "output_type": "stream",
     "text": [
      "tensor(5.4491, grad_fn=<NllLossBackward0>)\n"
     ]
    }
   ],
   "source": [
    "def get_batch(split):\n",
    "    data = train if split == 'train' else val_data\n",
    "    starting_indices = torch.randint(len(data) - max_seq_length, (batch_size,))\n",
    "    \n",
    "    x = torch.tensor([encode(s) for s in [data[idx:idx + max_seq_length] for idx in starting_indices]])\n",
    "    y = torch.tensor([encode(s) for s in [data[idx + 1:idx + max_seq_length + 1] for idx in starting_indices]])\n",
    "    return x, y\n",
    "    \n",
    "xb, yb = get_batch('train')\n",
    "\n",
    "my_model = BigramLanguageModel(vocab_size)\n",
    "logits, loss = my_model.forward(xb, yb)\n",
    "print(loss)"
   ]
  },
  {
   "cell_type": "code",
   "execution_count": 111,
   "id": "8beeb533",
   "metadata": {},
   "outputs": [
    {
     "name": "stdout",
     "output_type": "stream",
     "text": [
      "epoch 0: loss is 2.6685869693756104\n",
      "epoch 500: loss is 2.250985860824585\n"
     ]
    }
   ],
   "source": [
    "optimizer = torch.optim.AdamW(my_model.parameters(), lr=learning_rate)\n",
    "\n",
    "for epoch in range(1000):\n",
    "    xb, yb = get_batch('train')\n",
    "    logits, loss = my_model.forward(xb, yb)\n",
    "    \n",
    "    optimizer.zero_grad(set_to_none = True)\n",
    "    loss.backward()\n",
    "    optimizer.step()\n",
    "    \n",
    "    if epoch % 500 == 0:\n",
    "        print(f\"epoch {epoch}: loss is {loss}\")"
   ]
  },
  {
   "cell_type": "code",
   "execution_count": 112,
   "id": "1bda5bff",
   "metadata": {},
   "outputs": [
    {
     "name": "stdout",
     "output_type": "stream",
     "text": [
      "tensor([[1]])\n",
      " EtwestFtiwfffwyuiebftitttobothm fIhcaiIwfukdycIfcatttwtfgoftiwaetyodRleRsotiwlfnittmtlfmusitTbnOnwgm\n"
     ]
    }
   ],
   "source": [
    "seed = torch.ones(1,1).long()\n",
    "print(seed)\n",
    "\n",
    "generated = my_model.generate(seed, 100)[0]\n",
    "print(''.join(decode(generated.tolist())))"
   ]
  },
  {
   "cell_type": "code",
   "execution_count": null,
   "id": "721d8cf3",
   "metadata": {},
   "outputs": [],
   "source": []
  }
 ],
 "metadata": {
  "kernelspec": {
   "display_name": "Python (smol)",
   "language": "python",
   "name": "smol"
  },
  "language_info": {
   "codemirror_mode": {
    "name": "ipython",
    "version": 3
   },
   "file_extension": ".py",
   "mimetype": "text/x-python",
   "name": "python",
   "nbconvert_exporter": "python",
   "pygments_lexer": "ipython3",
   "version": "3.12.3"
  }
 },
 "nbformat": 4,
 "nbformat_minor": 5
}
